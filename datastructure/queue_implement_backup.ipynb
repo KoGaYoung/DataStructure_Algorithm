{
 "cells": [
  {
   "cell_type": "code",
   "execution_count": 9,
   "metadata": {},
   "outputs": [
    {
     "name": "stdout",
     "output_type": "stream",
     "text": [
      "0\n",
      "1\n",
      "2\n",
      "3\n",
      "4\n",
      "5\n",
      "6\n",
      "7\n",
      "8\n",
      "9\n",
      "None\n"
     ]
    }
   ],
   "source": [
    "class node:\n",
    "    def __init__(self, data):\n",
    "        self.data = data  # real value\n",
    "        self.next = None  # next node\n",
    "\n",
    "class queue:\n",
    "    def __init__(self,):\n",
    "        self.head = None\n",
    "        self.tail = None\n",
    "    \n",
    "    def is_empty(self):\n",
    "        if self.head == None: # head에 아무것도 없을경우 None\n",
    "            return True\n",
    "        else:\n",
    "            return False\n",
    "    \n",
    "    def enqueue(self, n):\n",
    "        new_node = node(n)\n",
    "        \n",
    "        if self.is_empty():\n",
    "            self.head = new_node\n",
    "            self.tail = new_node\n",
    "            return\n",
    "    \n",
    "        self.tail.next = new_node # 이전의 self.tail의 다음값으로 새로생기는 노드로 지정\n",
    "        self.tail = new_node # 새로생기는 node의 next값은 현재노드로\n",
    "            \n",
    "        \n",
    "    def dequeue(self):\n",
    "        if self.is_empty():\n",
    "            return -1\n",
    "        \n",
    "        remove_data = self.head.data\n",
    "        self.head = self.head.next\n",
    "        \n",
    "        return remove_data\n",
    "    \n",
    "    def peek(self):\n",
    "        if self.is_empty():\n",
    "            return -1\n",
    "        return self.head.data\n",
    "        \n",
    "    # 데이터 안빼고 순회하면서 조회\n",
    "    def queue_print(self):\n",
    "        top = self.head\n",
    "        head = self.head\n",
    "        result = [head.data]\n",
    "        print(head.data)\n",
    "        while head.next is not None:\n",
    "            head = head.next\n",
    "            print(head.data)\n",
    "            \n",
    "        self.head = top\n",
    "    \n",
    "if __name__ == \"__main__\":\n",
    "    q = queue()\n",
    "    for i in range(10):\n",
    "        q.enqueue(i)\n",
    "        \n",
    "##    데이터 ㅂㅎ    \n",
    "#     while not q.is_empty():\n",
    "#         print(q.dequeue())\n",
    "    print(q.queue_print())\n",
    "        "
   ]
  },
  {
   "cell_type": "code",
   "execution_count": null,
   "metadata": {},
   "outputs": [],
   "source": []
  }
 ],
 "metadata": {
  "kernelspec": {
   "display_name": "Python 3",
   "language": "python",
   "name": "python3"
  },
  "language_info": {
   "codemirror_mode": {
    "name": "ipython",
    "version": 3
   },
   "file_extension": ".py",
   "mimetype": "text/x-python",
   "name": "python",
   "nbconvert_exporter": "python",
   "pygments_lexer": "ipython3",
   "version": "3.8.5"
  }
 },
 "nbformat": 4,
 "nbformat_minor": 4
}
