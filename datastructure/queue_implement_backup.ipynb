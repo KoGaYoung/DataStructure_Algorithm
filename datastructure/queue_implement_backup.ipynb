{
 "cells": [
  {
   "cell_type": "code",
   "execution_count": 24,
   "metadata": {},
   "outputs": [
    {
     "name": "stdout",
     "output_type": "stream",
     "text": [
      "2\n"
     ]
    }
   ],
   "source": [
    "class node:\n",
    "    def __init__(self, data):\n",
    "        self.data = data  # real value\n",
    "        self.next = None  # next node\n",
    "\n",
    "class queue:\n",
    "    def __init__(self,):\n",
    "        self.head = None\n",
    "        self.tail = None\n",
    "    \n",
    "    def isEmpty(self):\n",
    "        if self.head == None: # head에 아무것도 없을경우 None\n",
    "            return True\n",
    "        else:\n",
    "            return False\n",
    "    \n",
    "    def enqueue(self, n):\n",
    "        new_node = node(n)\n",
    "        \n",
    "        if self.isEmpty():\n",
    "            self.head = new_node\n",
    "            self.tail = new_node\n",
    "            return\n",
    "    \n",
    "        self.tail.next = new_node # 이전의 self.tail의 다음값으로 새로생기는 노드로 지정\n",
    "        self.next = new_node # 새로생기는 node의 next값은 현재노드로\n",
    "            \n",
    "        \n",
    "    def dequeue(self):\n",
    "        if self.isEmpty():\n",
    "            return None\n",
    "        \n",
    "        remove_data = self.head.data\n",
    "        self.head = self.head.next\n",
    "        \n",
    "        return remove_data\n",
    "    \n",
    "    def peek(self):\n",
    "        if self.isEmpty():\n",
    "            return None\n",
    "        return self.head.data\n",
    "        \n",
    "    def queue_print(self):\n",
    "        top = self.head\n",
    "        head = self.head\n",
    "        result = [head.data]\n",
    "        while head.next is not None:\n",
    "            \n",
    "            head = head.next\n",
    "            print(head.data)\n",
    "            \n",
    "        self.head = top\n",
    "    \n",
    "if __name__ == \"__main__\":\n",
    "    q = queue()\n",
    "    q.enqueue(1)\n",
    "    q.enqueue(2)\n",
    "    \n",
    "    q.queue_print()\n",
    "#     print(q.queue_print())\n",
    "        "
   ]
  },
  {
   "cell_type": "code",
   "execution_count": null,
   "metadata": {},
   "outputs": [],
   "source": []
  }
 ],
 "metadata": {
  "kernelspec": {
   "display_name": "Python 3",
   "language": "python",
   "name": "python3"
  },
  "language_info": {
   "codemirror_mode": {
    "name": "ipython",
    "version": 3
   },
   "file_extension": ".py",
   "mimetype": "text/x-python",
   "name": "python",
   "nbconvert_exporter": "python",
   "pygments_lexer": "ipython3",
   "version": "3.8.5"
  }
 },
 "nbformat": 4,
 "nbformat_minor": 4
}
